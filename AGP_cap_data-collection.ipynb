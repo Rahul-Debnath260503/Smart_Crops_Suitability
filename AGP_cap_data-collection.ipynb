{
  "nbformat": 4,
  "nbformat_minor": 0,
  "metadata": {
    "colab": {
      "provenance": [],
      "gpuType": "T4"
    },
    "kernelspec": {
      "name": "python3",
      "display_name": "Python 3"
    },
    "language_info": {
      "name": "python"
    },
    "accelerator": "GPU"
  },
  "cells": [
    {
      "cell_type": "markdown",
      "source": [
        "## DATA COLLECTION\n",
        "## STEP 1: Install dependencies\n"
      ],
      "metadata": {
        "id": "DxRm-SJmmDr4"
      }
    },
    {
      "cell_type": "code",
      "source": [
        "!pip install geemap earthengine-api"
      ],
      "metadata": {
        "colab": {
          "base_uri": "https://localhost:8080/"
        },
        "collapsed": true,
        "id": "mhdP0EGjHtGU",
        "outputId": "abe98217-2e03-42d9-acbd-e082560ac442"
      },
      "execution_count": null,
      "outputs": [
        {
          "output_type": "stream",
          "name": "stdout",
          "text": [
            "Requirement already satisfied: geemap in /usr/local/lib/python3.11/dist-packages (0.35.3)\n",
            "Requirement already satisfied: earthengine-api in /usr/local/lib/python3.11/dist-packages (1.5.15)\n",
            "Requirement already satisfied: bqplot in /usr/local/lib/python3.11/dist-packages (from geemap) (0.12.44)\n",
            "Requirement already satisfied: colour in /usr/local/lib/python3.11/dist-packages (from geemap) (0.1.5)\n",
            "Requirement already satisfied: eerepr>=0.1.0 in /usr/local/lib/python3.11/dist-packages (from geemap) (0.1.2)\n",
            "Requirement already satisfied: folium>=0.17.0 in /usr/local/lib/python3.11/dist-packages (from geemap) (0.19.5)\n",
            "Requirement already satisfied: geocoder in /usr/local/lib/python3.11/dist-packages (from geemap) (1.38.1)\n",
            "Requirement already satisfied: ipyevents in /usr/local/lib/python3.11/dist-packages (from geemap) (2.0.2)\n",
            "Requirement already satisfied: ipyfilechooser>=0.6.0 in /usr/local/lib/python3.11/dist-packages (from geemap) (0.6.0)\n",
            "Requirement already satisfied: ipyleaflet>=0.19.2 in /usr/local/lib/python3.11/dist-packages (from geemap) (0.19.2)\n",
            "Requirement already satisfied: ipytree in /usr/local/lib/python3.11/dist-packages (from geemap) (0.2.2)\n",
            "Requirement already satisfied: matplotlib in /usr/local/lib/python3.11/dist-packages (from geemap) (3.10.0)\n",
            "Requirement already satisfied: numpy in /usr/local/lib/python3.11/dist-packages (from geemap) (2.0.2)\n",
            "Requirement already satisfied: pandas in /usr/local/lib/python3.11/dist-packages (from geemap) (2.2.2)\n",
            "Requirement already satisfied: plotly in /usr/local/lib/python3.11/dist-packages (from geemap) (5.24.1)\n",
            "Requirement already satisfied: pyperclip in /usr/local/lib/python3.11/dist-packages (from geemap) (1.9.0)\n",
            "Requirement already satisfied: pyshp>=2.3.1 in /usr/local/lib/python3.11/dist-packages (from geemap) (2.3.1)\n",
            "Requirement already satisfied: python-box in /usr/local/lib/python3.11/dist-packages (from geemap) (7.3.2)\n",
            "Requirement already satisfied: scooby in /usr/local/lib/python3.11/dist-packages (from geemap) (0.10.1)\n",
            "Requirement already satisfied: google-cloud-storage in /usr/local/lib/python3.11/dist-packages (from earthengine-api) (2.19.0)\n",
            "Requirement already satisfied: google-api-python-client>=1.12.1 in /usr/local/lib/python3.11/dist-packages (from earthengine-api) (2.169.0)\n",
            "Requirement already satisfied: google-auth>=1.4.1 in /usr/local/lib/python3.11/dist-packages (from earthengine-api) (2.38.0)\n",
            "Requirement already satisfied: google-auth-httplib2>=0.0.3 in /usr/local/lib/python3.11/dist-packages (from earthengine-api) (0.2.0)\n",
            "Requirement already satisfied: httplib2<1dev,>=0.9.2 in /usr/local/lib/python3.11/dist-packages (from earthengine-api) (0.22.0)\n",
            "Requirement already satisfied: requests in /usr/local/lib/python3.11/dist-packages (from earthengine-api) (2.32.3)\n",
            "Requirement already satisfied: branca>=0.6.0 in /usr/local/lib/python3.11/dist-packages (from folium>=0.17.0->geemap) (0.8.1)\n",
            "Requirement already satisfied: jinja2>=2.9 in /usr/local/lib/python3.11/dist-packages (from folium>=0.17.0->geemap) (3.1.6)\n",
            "Requirement already satisfied: xyzservices in /usr/local/lib/python3.11/dist-packages (from folium>=0.17.0->geemap) (2025.4.0)\n",
            "Requirement already satisfied: google-api-core!=2.0.*,!=2.1.*,!=2.2.*,!=2.3.0,<3.0.0,>=1.31.5 in /usr/local/lib/python3.11/dist-packages (from google-api-python-client>=1.12.1->earthengine-api) (2.24.2)\n",
            "Requirement already satisfied: uritemplate<5,>=3.0.1 in /usr/local/lib/python3.11/dist-packages (from google-api-python-client>=1.12.1->earthengine-api) (4.1.1)\n",
            "Requirement already satisfied: cachetools<6.0,>=2.0.0 in /usr/local/lib/python3.11/dist-packages (from google-auth>=1.4.1->earthengine-api) (5.5.2)\n",
            "Requirement already satisfied: pyasn1-modules>=0.2.1 in /usr/local/lib/python3.11/dist-packages (from google-auth>=1.4.1->earthengine-api) (0.4.2)\n",
            "Requirement already satisfied: rsa<5,>=3.1.4 in /usr/local/lib/python3.11/dist-packages (from google-auth>=1.4.1->earthengine-api) (4.9.1)\n",
            "Requirement already satisfied: pyparsing!=3.0.0,!=3.0.1,!=3.0.2,!=3.0.3,<4,>=2.4.2 in /usr/local/lib/python3.11/dist-packages (from httplib2<1dev,>=0.9.2->earthengine-api) (3.2.3)\n",
            "Requirement already satisfied: ipywidgets in /usr/local/lib/python3.11/dist-packages (from ipyfilechooser>=0.6.0->geemap) (7.7.1)\n",
            "Requirement already satisfied: jupyter-leaflet<0.20,>=0.19 in /usr/local/lib/python3.11/dist-packages (from ipyleaflet>=0.19.2->geemap) (0.19.2)\n",
            "Requirement already satisfied: traittypes<3,>=0.2.1 in /usr/local/lib/python3.11/dist-packages (from ipyleaflet>=0.19.2->geemap) (0.2.1)\n",
            "Requirement already satisfied: traitlets>=4.3.0 in /usr/local/lib/python3.11/dist-packages (from bqplot->geemap) (5.7.1)\n",
            "Requirement already satisfied: python-dateutil>=2.8.2 in /usr/local/lib/python3.11/dist-packages (from pandas->geemap) (2.9.0.post0)\n",
            "Requirement already satisfied: pytz>=2020.1 in /usr/local/lib/python3.11/dist-packages (from pandas->geemap) (2025.2)\n",
            "Requirement already satisfied: tzdata>=2022.7 in /usr/local/lib/python3.11/dist-packages (from pandas->geemap) (2025.2)\n",
            "Requirement already satisfied: click in /usr/local/lib/python3.11/dist-packages (from geocoder->geemap) (8.2.0)\n",
            "Requirement already satisfied: future in /usr/local/lib/python3.11/dist-packages (from geocoder->geemap) (1.0.0)\n",
            "Requirement already satisfied: ratelim in /usr/local/lib/python3.11/dist-packages (from geocoder->geemap) (0.1.6)\n",
            "Requirement already satisfied: six in /usr/local/lib/python3.11/dist-packages (from geocoder->geemap) (1.17.0)\n",
            "Requirement already satisfied: google-cloud-core<3.0dev,>=2.3.0 in /usr/local/lib/python3.11/dist-packages (from google-cloud-storage->earthengine-api) (2.4.3)\n",
            "Requirement already satisfied: google-resumable-media>=2.7.2 in /usr/local/lib/python3.11/dist-packages (from google-cloud-storage->earthengine-api) (2.7.2)\n",
            "Requirement already satisfied: google-crc32c<2.0dev,>=1.0 in /usr/local/lib/python3.11/dist-packages (from google-cloud-storage->earthengine-api) (1.7.1)\n",
            "Requirement already satisfied: charset-normalizer<4,>=2 in /usr/local/lib/python3.11/dist-packages (from requests->earthengine-api) (3.4.2)\n",
            "Requirement already satisfied: idna<4,>=2.5 in /usr/local/lib/python3.11/dist-packages (from requests->earthengine-api) (3.10)\n",
            "Requirement already satisfied: urllib3<3,>=1.21.1 in /usr/local/lib/python3.11/dist-packages (from requests->earthengine-api) (2.4.0)\n",
            "Requirement already satisfied: certifi>=2017.4.17 in /usr/local/lib/python3.11/dist-packages (from requests->earthengine-api) (2025.4.26)\n",
            "Requirement already satisfied: contourpy>=1.0.1 in /usr/local/lib/python3.11/dist-packages (from matplotlib->geemap) (1.3.2)\n",
            "Requirement already satisfied: cycler>=0.10 in /usr/local/lib/python3.11/dist-packages (from matplotlib->geemap) (0.12.1)\n",
            "Requirement already satisfied: fonttools>=4.22.0 in /usr/local/lib/python3.11/dist-packages (from matplotlib->geemap) (4.58.0)\n",
            "Requirement already satisfied: kiwisolver>=1.3.1 in /usr/local/lib/python3.11/dist-packages (from matplotlib->geemap) (1.4.8)\n",
            "Requirement already satisfied: packaging>=20.0 in /usr/local/lib/python3.11/dist-packages (from matplotlib->geemap) (24.2)\n",
            "Requirement already satisfied: pillow>=8 in /usr/local/lib/python3.11/dist-packages (from matplotlib->geemap) (11.2.1)\n",
            "Requirement already satisfied: tenacity>=6.2.0 in /usr/local/lib/python3.11/dist-packages (from plotly->geemap) (9.1.2)\n",
            "Requirement already satisfied: googleapis-common-protos<2.0.0,>=1.56.2 in /usr/local/lib/python3.11/dist-packages (from google-api-core!=2.0.*,!=2.1.*,!=2.2.*,!=2.3.0,<3.0.0,>=1.31.5->google-api-python-client>=1.12.1->earthengine-api) (1.70.0)\n",
            "Requirement already satisfied: protobuf!=3.20.0,!=3.20.1,!=4.21.0,!=4.21.1,!=4.21.2,!=4.21.3,!=4.21.4,!=4.21.5,<7.0.0,>=3.19.5 in /usr/local/lib/python3.11/dist-packages (from google-api-core!=2.0.*,!=2.1.*,!=2.2.*,!=2.3.0,<3.0.0,>=1.31.5->google-api-python-client>=1.12.1->earthengine-api) (5.29.4)\n",
            "Requirement already satisfied: proto-plus<2.0.0,>=1.22.3 in /usr/local/lib/python3.11/dist-packages (from google-api-core!=2.0.*,!=2.1.*,!=2.2.*,!=2.3.0,<3.0.0,>=1.31.5->google-api-python-client>=1.12.1->earthengine-api) (1.26.1)\n",
            "Requirement already satisfied: ipykernel>=4.5.1 in /usr/local/lib/python3.11/dist-packages (from ipywidgets->ipyfilechooser>=0.6.0->geemap) (6.17.1)\n",
            "Requirement already satisfied: ipython-genutils~=0.2.0 in /usr/local/lib/python3.11/dist-packages (from ipywidgets->ipyfilechooser>=0.6.0->geemap) (0.2.0)\n",
            "Requirement already satisfied: widgetsnbextension~=3.6.0 in /usr/local/lib/python3.11/dist-packages (from ipywidgets->ipyfilechooser>=0.6.0->geemap) (3.6.10)\n",
            "Requirement already satisfied: ipython>=4.0.0 in /usr/local/lib/python3.11/dist-packages (from ipywidgets->ipyfilechooser>=0.6.0->geemap) (7.34.0)\n",
            "Requirement already satisfied: jupyterlab-widgets>=1.0.0 in /usr/local/lib/python3.11/dist-packages (from ipywidgets->ipyfilechooser>=0.6.0->geemap) (3.0.15)\n",
            "Requirement already satisfied: MarkupSafe>=2.0 in /usr/local/lib/python3.11/dist-packages (from jinja2>=2.9->folium>=0.17.0->geemap) (3.0.2)\n",
            "Requirement already satisfied: pyasn1<0.7.0,>=0.6.1 in /usr/local/lib/python3.11/dist-packages (from pyasn1-modules>=0.2.1->google-auth>=1.4.1->earthengine-api) (0.6.1)\n",
            "Requirement already satisfied: decorator in /usr/local/lib/python3.11/dist-packages (from ratelim->geocoder->geemap) (4.4.2)\n",
            "Requirement already satisfied: debugpy>=1.0 in /usr/local/lib/python3.11/dist-packages (from ipykernel>=4.5.1->ipywidgets->ipyfilechooser>=0.6.0->geemap) (1.8.0)\n",
            "Requirement already satisfied: jupyter-client>=6.1.12 in /usr/local/lib/python3.11/dist-packages (from ipykernel>=4.5.1->ipywidgets->ipyfilechooser>=0.6.0->geemap) (6.1.12)\n",
            "Requirement already satisfied: matplotlib-inline>=0.1 in /usr/local/lib/python3.11/dist-packages (from ipykernel>=4.5.1->ipywidgets->ipyfilechooser>=0.6.0->geemap) (0.1.7)\n",
            "Requirement already satisfied: nest-asyncio in /usr/local/lib/python3.11/dist-packages (from ipykernel>=4.5.1->ipywidgets->ipyfilechooser>=0.6.0->geemap) (1.6.0)\n",
            "Requirement already satisfied: psutil in /usr/local/lib/python3.11/dist-packages (from ipykernel>=4.5.1->ipywidgets->ipyfilechooser>=0.6.0->geemap) (5.9.5)\n",
            "Requirement already satisfied: pyzmq>=17 in /usr/local/lib/python3.11/dist-packages (from ipykernel>=4.5.1->ipywidgets->ipyfilechooser>=0.6.0->geemap) (24.0.1)\n",
            "Requirement already satisfied: tornado>=6.1 in /usr/local/lib/python3.11/dist-packages (from ipykernel>=4.5.1->ipywidgets->ipyfilechooser>=0.6.0->geemap) (6.4.2)\n",
            "Requirement already satisfied: setuptools>=18.5 in /usr/local/lib/python3.11/dist-packages (from ipython>=4.0.0->ipywidgets->ipyfilechooser>=0.6.0->geemap) (75.2.0)\n",
            "Collecting jedi>=0.16 (from ipython>=4.0.0->ipywidgets->ipyfilechooser>=0.6.0->geemap)\n",
            "  Downloading jedi-0.19.2-py2.py3-none-any.whl.metadata (22 kB)\n",
            "Requirement already satisfied: pickleshare in /usr/local/lib/python3.11/dist-packages (from ipython>=4.0.0->ipywidgets->ipyfilechooser>=0.6.0->geemap) (0.7.5)\n",
            "Requirement already satisfied: prompt-toolkit!=3.0.0,!=3.0.1,<3.1.0,>=2.0.0 in /usr/local/lib/python3.11/dist-packages (from ipython>=4.0.0->ipywidgets->ipyfilechooser>=0.6.0->geemap) (3.0.51)\n",
            "Requirement already satisfied: pygments in /usr/local/lib/python3.11/dist-packages (from ipython>=4.0.0->ipywidgets->ipyfilechooser>=0.6.0->geemap) (2.19.1)\n",
            "Requirement already satisfied: backcall in /usr/local/lib/python3.11/dist-packages (from ipython>=4.0.0->ipywidgets->ipyfilechooser>=0.6.0->geemap) (0.2.0)\n",
            "Requirement already satisfied: pexpect>4.3 in /usr/local/lib/python3.11/dist-packages (from ipython>=4.0.0->ipywidgets->ipyfilechooser>=0.6.0->geemap) (4.9.0)\n",
            "Requirement already satisfied: notebook>=4.4.1 in /usr/local/lib/python3.11/dist-packages (from widgetsnbextension~=3.6.0->ipywidgets->ipyfilechooser>=0.6.0->geemap) (6.5.7)\n",
            "Requirement already satisfied: parso<0.9.0,>=0.8.4 in /usr/local/lib/python3.11/dist-packages (from jedi>=0.16->ipython>=4.0.0->ipywidgets->ipyfilechooser>=0.6.0->geemap) (0.8.4)\n",
            "Requirement already satisfied: jupyter-core>=4.6.0 in /usr/local/lib/python3.11/dist-packages (from jupyter-client>=6.1.12->ipykernel>=4.5.1->ipywidgets->ipyfilechooser>=0.6.0->geemap) (5.7.2)\n",
            "Requirement already satisfied: argon2-cffi in /usr/local/lib/python3.11/dist-packages (from notebook>=4.4.1->widgetsnbextension~=3.6.0->ipywidgets->ipyfilechooser>=0.6.0->geemap) (23.1.0)\n",
            "Requirement already satisfied: nbformat in /usr/local/lib/python3.11/dist-packages (from notebook>=4.4.1->widgetsnbextension~=3.6.0->ipywidgets->ipyfilechooser>=0.6.0->geemap) (5.10.4)\n",
            "Requirement already satisfied: nbconvert>=5 in /usr/local/lib/python3.11/dist-packages (from notebook>=4.4.1->widgetsnbextension~=3.6.0->ipywidgets->ipyfilechooser>=0.6.0->geemap) (7.16.6)\n",
            "Requirement already satisfied: Send2Trash>=1.8.0 in /usr/local/lib/python3.11/dist-packages (from notebook>=4.4.1->widgetsnbextension~=3.6.0->ipywidgets->ipyfilechooser>=0.6.0->geemap) (1.8.3)\n",
            "Requirement already satisfied: terminado>=0.8.3 in /usr/local/lib/python3.11/dist-packages (from notebook>=4.4.1->widgetsnbextension~=3.6.0->ipywidgets->ipyfilechooser>=0.6.0->geemap) (0.18.1)\n",
            "Requirement already satisfied: prometheus-client in /usr/local/lib/python3.11/dist-packages (from notebook>=4.4.1->widgetsnbextension~=3.6.0->ipywidgets->ipyfilechooser>=0.6.0->geemap) (0.21.1)\n",
            "Requirement already satisfied: nbclassic>=0.4.7 in /usr/local/lib/python3.11/dist-packages (from notebook>=4.4.1->widgetsnbextension~=3.6.0->ipywidgets->ipyfilechooser>=0.6.0->geemap) (1.3.1)\n",
            "Requirement already satisfied: ptyprocess>=0.5 in /usr/local/lib/python3.11/dist-packages (from pexpect>4.3->ipython>=4.0.0->ipywidgets->ipyfilechooser>=0.6.0->geemap) (0.7.0)\n",
            "Requirement already satisfied: wcwidth in /usr/local/lib/python3.11/dist-packages (from prompt-toolkit!=3.0.0,!=3.0.1,<3.1.0,>=2.0.0->ipython>=4.0.0->ipywidgets->ipyfilechooser>=0.6.0->geemap) (0.2.13)\n",
            "Requirement already satisfied: platformdirs>=2.5 in /usr/local/lib/python3.11/dist-packages (from jupyter-core>=4.6.0->jupyter-client>=6.1.12->ipykernel>=4.5.1->ipywidgets->ipyfilechooser>=0.6.0->geemap) (4.3.8)\n",
            "Requirement already satisfied: notebook-shim>=0.2.3 in /usr/local/lib/python3.11/dist-packages (from nbclassic>=0.4.7->notebook>=4.4.1->widgetsnbextension~=3.6.0->ipywidgets->ipyfilechooser>=0.6.0->geemap) (0.2.4)\n",
            "Requirement already satisfied: beautifulsoup4 in /usr/local/lib/python3.11/dist-packages (from nbconvert>=5->notebook>=4.4.1->widgetsnbextension~=3.6.0->ipywidgets->ipyfilechooser>=0.6.0->geemap) (4.13.4)\n",
            "Requirement already satisfied: bleach!=5.0.0 in /usr/local/lib/python3.11/dist-packages (from bleach[css]!=5.0.0->nbconvert>=5->notebook>=4.4.1->widgetsnbextension~=3.6.0->ipywidgets->ipyfilechooser>=0.6.0->geemap) (6.2.0)\n",
            "Requirement already satisfied: defusedxml in /usr/local/lib/python3.11/dist-packages (from nbconvert>=5->notebook>=4.4.1->widgetsnbextension~=3.6.0->ipywidgets->ipyfilechooser>=0.6.0->geemap) (0.7.1)\n",
            "Requirement already satisfied: jupyterlab-pygments in /usr/local/lib/python3.11/dist-packages (from nbconvert>=5->notebook>=4.4.1->widgetsnbextension~=3.6.0->ipywidgets->ipyfilechooser>=0.6.0->geemap) (0.3.0)\n",
            "Requirement already satisfied: mistune<4,>=2.0.3 in /usr/local/lib/python3.11/dist-packages (from nbconvert>=5->notebook>=4.4.1->widgetsnbextension~=3.6.0->ipywidgets->ipyfilechooser>=0.6.0->geemap) (3.1.3)\n",
            "Requirement already satisfied: nbclient>=0.5.0 in /usr/local/lib/python3.11/dist-packages (from nbconvert>=5->notebook>=4.4.1->widgetsnbextension~=3.6.0->ipywidgets->ipyfilechooser>=0.6.0->geemap) (0.10.2)\n",
            "Requirement already satisfied: pandocfilters>=1.4.1 in /usr/local/lib/python3.11/dist-packages (from nbconvert>=5->notebook>=4.4.1->widgetsnbextension~=3.6.0->ipywidgets->ipyfilechooser>=0.6.0->geemap) (1.5.1)\n",
            "Requirement already satisfied: fastjsonschema>=2.15 in /usr/local/lib/python3.11/dist-packages (from nbformat->notebook>=4.4.1->widgetsnbextension~=3.6.0->ipywidgets->ipyfilechooser>=0.6.0->geemap) (2.21.1)\n",
            "Requirement already satisfied: jsonschema>=2.6 in /usr/local/lib/python3.11/dist-packages (from nbformat->notebook>=4.4.1->widgetsnbextension~=3.6.0->ipywidgets->ipyfilechooser>=0.6.0->geemap) (4.23.0)\n",
            "Requirement already satisfied: argon2-cffi-bindings in /usr/local/lib/python3.11/dist-packages (from argon2-cffi->notebook>=4.4.1->widgetsnbextension~=3.6.0->ipywidgets->ipyfilechooser>=0.6.0->geemap) (21.2.0)\n",
            "Requirement already satisfied: webencodings in /usr/local/lib/python3.11/dist-packages (from bleach!=5.0.0->bleach[css]!=5.0.0->nbconvert>=5->notebook>=4.4.1->widgetsnbextension~=3.6.0->ipywidgets->ipyfilechooser>=0.6.0->geemap) (0.5.1)\n",
            "Requirement already satisfied: tinycss2<1.5,>=1.1.0 in /usr/local/lib/python3.11/dist-packages (from bleach[css]!=5.0.0->nbconvert>=5->notebook>=4.4.1->widgetsnbextension~=3.6.0->ipywidgets->ipyfilechooser>=0.6.0->geemap) (1.4.0)\n",
            "Requirement already satisfied: attrs>=22.2.0 in /usr/local/lib/python3.11/dist-packages (from jsonschema>=2.6->nbformat->notebook>=4.4.1->widgetsnbextension~=3.6.0->ipywidgets->ipyfilechooser>=0.6.0->geemap) (25.3.0)\n",
            "Requirement already satisfied: jsonschema-specifications>=2023.03.6 in /usr/local/lib/python3.11/dist-packages (from jsonschema>=2.6->nbformat->notebook>=4.4.1->widgetsnbextension~=3.6.0->ipywidgets->ipyfilechooser>=0.6.0->geemap) (2025.4.1)\n",
            "Requirement already satisfied: referencing>=0.28.4 in /usr/local/lib/python3.11/dist-packages (from jsonschema>=2.6->nbformat->notebook>=4.4.1->widgetsnbextension~=3.6.0->ipywidgets->ipyfilechooser>=0.6.0->geemap) (0.36.2)\n",
            "Requirement already satisfied: rpds-py>=0.7.1 in /usr/local/lib/python3.11/dist-packages (from jsonschema>=2.6->nbformat->notebook>=4.4.1->widgetsnbextension~=3.6.0->ipywidgets->ipyfilechooser>=0.6.0->geemap) (0.24.0)\n",
            "Requirement already satisfied: jupyter-server<3,>=1.8 in /usr/local/lib/python3.11/dist-packages (from notebook-shim>=0.2.3->nbclassic>=0.4.7->notebook>=4.4.1->widgetsnbextension~=3.6.0->ipywidgets->ipyfilechooser>=0.6.0->geemap) (1.16.0)\n",
            "Requirement already satisfied: cffi>=1.0.1 in /usr/local/lib/python3.11/dist-packages (from argon2-cffi-bindings->argon2-cffi->notebook>=4.4.1->widgetsnbextension~=3.6.0->ipywidgets->ipyfilechooser>=0.6.0->geemap) (1.17.1)\n",
            "Requirement already satisfied: soupsieve>1.2 in /usr/local/lib/python3.11/dist-packages (from beautifulsoup4->nbconvert>=5->notebook>=4.4.1->widgetsnbextension~=3.6.0->ipywidgets->ipyfilechooser>=0.6.0->geemap) (2.7)\n",
            "Requirement already satisfied: typing-extensions>=4.0.0 in /usr/local/lib/python3.11/dist-packages (from beautifulsoup4->nbconvert>=5->notebook>=4.4.1->widgetsnbextension~=3.6.0->ipywidgets->ipyfilechooser>=0.6.0->geemap) (4.13.2)\n",
            "Requirement already satisfied: pycparser in /usr/local/lib/python3.11/dist-packages (from cffi>=1.0.1->argon2-cffi-bindings->argon2-cffi->notebook>=4.4.1->widgetsnbextension~=3.6.0->ipywidgets->ipyfilechooser>=0.6.0->geemap) (2.22)\n",
            "Requirement already satisfied: anyio>=3.1.0 in /usr/local/lib/python3.11/dist-packages (from jupyter-server<3,>=1.8->notebook-shim>=0.2.3->nbclassic>=0.4.7->notebook>=4.4.1->widgetsnbextension~=3.6.0->ipywidgets->ipyfilechooser>=0.6.0->geemap) (4.9.0)\n",
            "Requirement already satisfied: websocket-client in /usr/local/lib/python3.11/dist-packages (from jupyter-server<3,>=1.8->notebook-shim>=0.2.3->nbclassic>=0.4.7->notebook>=4.4.1->widgetsnbextension~=3.6.0->ipywidgets->ipyfilechooser>=0.6.0->geemap) (1.8.0)\n",
            "Requirement already satisfied: sniffio>=1.1 in /usr/local/lib/python3.11/dist-packages (from anyio>=3.1.0->jupyter-server<3,>=1.8->notebook-shim>=0.2.3->nbclassic>=0.4.7->notebook>=4.4.1->widgetsnbextension~=3.6.0->ipywidgets->ipyfilechooser>=0.6.0->geemap) (1.3.1)\n",
            "Downloading jedi-0.19.2-py2.py3-none-any.whl (1.6 MB)\n",
            "\u001b[2K   \u001b[90m━━━━━━━━━━━━━━━━━━━━━━━━━━━━━━━━━━━━━━━━\u001b[0m \u001b[32m1.6/1.6 MB\u001b[0m \u001b[31m61.7 MB/s\u001b[0m eta \u001b[36m0:00:00\u001b[0m\n",
            "\u001b[?25hInstalling collected packages: jedi\n",
            "Successfully installed jedi-0.19.2\n"
          ]
        }
      ]
    },
    {
      "cell_type": "markdown",
      "source": [
        "## STEP 2: Import and authenticate"
      ],
      "metadata": {
        "id": "Ye0h7KWwHvvH"
      }
    },
    {
      "cell_type": "code",
      "source": [
        "import ee\n",
        "import pandas as pd\n",
        "import time\n",
        "\n",
        "ee.Authenticate()\n",
        "ee.Initialize(project='ee-rahulds24')"
      ],
      "metadata": {
        "id": "dC-oNvLTH3P3"
      },
      "execution_count": null,
      "outputs": []
    },
    {
      "cell_type": "markdown",
      "source": [
        "##STEP 3: Define state bounding boxes (approximate lat/lon)"
      ],
      "metadata": {
        "id": "R5gkvszrH6O8"
      }
    },
    {
      "cell_type": "code",
      "source": [
        "# Define the states with bounding boxes (manually chosen rough bounding boxes)\n",
        "states_bbox = {\n",
        "    'Jammu': ee.Geometry.Polygon([[\n",
        "        [73.8, 32.3], [73.8, 34.5], [76.5, 34.5], [76.5, 32.3], [73.8, 32.3]\n",
        "    ]]),\n",
        "    'Himachal Pradesh': ee.Geometry.Polygon([[\n",
        "        [76.5, 30.4], [76.5, 33.2], [79.0, 33.2], [79.0, 30.4], [76.5, 30.4]\n",
        "    ]]),\n",
        "    'Punjab': ee.Geometry.Polygon([[\n",
        "        [73.8, 29.5], [73.8, 32.5], [76.9, 32.5], [76.9, 29.5], [73.8, 29.5]\n",
        "    ]]),\n",
        "    'Haryana': ee.Geometry.Polygon([[\n",
        "        [74.5, 27.4], [74.5, 30.5], [77.5, 30.5], [77.5, 27.4], [74.5, 27.4]\n",
        "    ]]),\n",
        "    'West Bengal': ee.Geometry.Polygon([[\n",
        "        [85.8, 21.5], [85.8, 27.3], [89.9, 27.3], [89.9, 21.5], [85.8, 21.5]\n",
        "    ]]),\n",
        "    'Bihar': ee.Geometry.Polygon([[\n",
        "        [83.0, 24.2], [83.0, 27.5], [88.0, 27.5], [88.0, 24.2], [83.0, 24.2]\n",
        "    ]]),\n",
        "    'Jharkhand': ee.Geometry.Polygon([[\n",
        "        [83.5, 22.0], [83.5, 25.5], [87.5, 25.5], [87.5, 22.0], [83.5, 22.0]\n",
        "    ]]),\n",
        "    'Gujarat': ee.Geometry.Polygon([[\n",
        "        [68.0, 20.0], [68.0, 24.7], [74.5, 24.7], [74.5, 20.0], [68.0, 20.0]\n",
        "    ]]),\n",
        "    'Madhya Pradesh': ee.Geometry.Polygon([[\n",
        "        [74.0, 21.0], [74.0, 26.5], [82.0, 26.5], [82.0, 21.0], [74.0, 21.0]\n",
        "    ]]),\n",
        "    'Rajasthan': ee.Geometry.Polygon([[\n",
        "        [69.3, 23.3], [69.3, 30.0], [78.2, 30.0], [78.2, 23.3], [69.3, 23.3]\n",
        "    ]]),\n",
        "    'Kerala': ee.Geometry.Polygon([[\n",
        "        [74.0, 8.0], [74.0, 12.9], [77.5, 12.9], [77.5, 8.0], [74.0, 8.0]\n",
        "    ]]),\n",
        "    'Tamil Nadu': ee.Geometry.Polygon([[\n",
        "        [76.0, 8.0], [76.0, 13.5], [80.5, 13.5], [80.5, 8.0], [76.0, 8.0]\n",
        "    ]]),\n",
        "    'Uttar Pradesh': ee.Geometry.Polygon([\n",
        "    [[77.0, 23.9], [77.0, 30.4], [84.5, 30.4], [84.5, 23.9], [77.0, 23.9]]\n",
        "    ]),\n",
        "    'Assam': ee.Geometry.Polygon([\n",
        "    [[89.7, 24.0], [89.7, 27.8], [96.0, 27.8], [96.0, 24.0], [89.7, 24.0]]\n",
        "    ]),\n",
        "    'Odisha': ee.Geometry.Polygon([\n",
        "    [[81.5, 18.0], [81.5, 22.9], [87.4, 22.9], [87.4, 18.0], [81.5, 18.0]]\n",
        "    ]),\n",
        "    'Andhra Pradesh': ee.Geometry.Polygon([\n",
        "    [[77.0, 12.5], [77.0, 19.5], [84.0, 19.5], [84.0, 12.5], [77.0, 12.5]]\n",
        "    ])\n",
        "}"
      ],
      "metadata": {
        "id": "t8no6NfZmCvG"
      },
      "execution_count": null,
      "outputs": []
    },
    {
      "cell_type": "markdown",
      "source": [
        "### Define seasons"
      ],
      "metadata": {
        "id": "3KJhE5d_IUnw"
      }
    },
    {
      "cell_type": "code",
      "source": [
        "seasons = {\n",
        "    'Spring': ('2022-03-01', '2022-05-31'),\n",
        "    'Summer': ('2022-06-01', '2022-08-31'),\n",
        "    'Autumn': ('2022-09-01', '2022-11-30'),\n",
        "    'Winter': ('2022-12-01', '2023-02-28')\n",
        "}"
      ],
      "metadata": {
        "id": "m2vK4qTGIVwf"
      },
      "execution_count": null,
      "outputs": []
    },
    {
      "cell_type": "markdown",
      "source": [
        "## Define points per state and also scale. scale is 250 because MODIS works at 250m or 500m resolution.\n",
        "##If you set scale=30 (too fine for MODIS), it may return empty data.\n",
        "\n"
      ],
      "metadata": {
        "id": "zWwVDpGnIh0s"
      }
    },
    {
      "cell_type": "code",
      "source": [
        "points_per_state = 100\n",
        "scale = 250"
      ],
      "metadata": {
        "id": "dEfWuZaQIzZa"
      },
      "execution_count": null,
      "outputs": []
    },
    {
      "cell_type": "markdown",
      "source": [
        "### ***1. Collect points wise data from each states and also seasonal wise. and also make the NDVI, Temprature, PH( Convert to 0–14 scale) values in a proper understandable scale. Rainfall is the sum of the season.(not average of daily rainfall/it's sum of one season like autumn or summer)***"
      ],
      "metadata": {
        "id": "e4_N2li1JYSi"
      }
    },
    {
      "cell_type": "markdown",
      "source": [
        "## ***2. Atlast Combine all data in an one csv file***"
      ],
      "metadata": {
        "id": "GAbSP_hgK9Wx"
      }
    },
    {
      "cell_type": "code",
      "source": [
        "all_data = []\n",
        "\n",
        "for state, region in states_bbox.items():\n",
        "    for season, (start, end) in seasons.items():\n",
        "        print(f\"Collecting data for {state} ({season})...\")\n",
        "\n",
        "        try:\n",
        "            # Generate random points\n",
        "            points = ee.FeatureCollection.randomPoints(region=region, points=points_per_state, seed=42)\n",
        "\n",
        "            # Seasonal NDVI\n",
        "            ndvi = ee.ImageCollection('MODIS/061/MOD13Q1') \\\n",
        "                .filterDate(start, end) \\\n",
        "                .select('NDVI') \\\n",
        "                .mean() \\\n",
        "                .divide(10000)  # 0–1 range\n",
        "\n",
        "            # Seasonal Rainfall\n",
        "            seasonal_rainfall = ee.ImageCollection('UCSB-CHG/CHIRPS/DAILY') \\\n",
        "                .filterDate(start, end) \\\n",
        "                .sum()\n",
        "\n",
        "            # Seasonal Temperature (Celsius)\n",
        "            temperature = ee.ImageCollection('MODIS/061/MOD11A1') \\\n",
        "                .filterDate(start, end) \\\n",
        "                .select('LST_Day_1km') \\\n",
        "                .mean() \\\n",
        "                .multiply(0.02).subtract(273.15)\n",
        "\n",
        "            # Static soil features\n",
        "            soil_carbon = ee.Image('projects/soilgrids-isric/ocd_mean') \\\n",
        "                .select('ocd_0-5cm_mean')\n",
        "\n",
        "            soil_ph = ee.Image('projects/soilgrids-isric/phh2o_mean') \\\n",
        "                .select('phh2o_0-5cm_mean') \\\n",
        "                .multiply(0.1)\n",
        "\n",
        "            soil_texture = ee.Image('OpenLandMap/SOL/SOL_TEXTURE-CLASS_USDA-TT_M/v02') \\\n",
        "                .select('b0')\n",
        "\n",
        "            # Combine all bands\n",
        "            combined = ndvi.rename('NDVI') \\\n",
        "                .addBands(seasonal_rainfall.rename('Seasonal_Rainfall')) \\\n",
        "                .addBands(temperature.rename('Temperature')) \\\n",
        "                .addBands(soil_ph.rename('pH_0_5')) \\\n",
        "                .addBands(soil_carbon.rename('Carbon')) \\\n",
        "                .addBands(soil_texture.rename('Texture'))\n",
        "\n",
        "            # Annual Rainfall\n",
        "            year = pd.to_datetime(start).year\n",
        "            annual_rainfall = ee.ImageCollection('UCSB-CHG/CHIRPS/DAILY') \\\n",
        "                .filterDate(f'{year}-01-01', f'{year}-12-31') \\\n",
        "                .filterBounds(region) \\\n",
        "                .sum() \\\n",
        "                .rename('Annual_Rainfall')\n",
        "\n",
        "            combined = combined.addBands(annual_rainfall)\n",
        "\n",
        "            # Sample at random points\n",
        "            sampled = combined.sampleRegions(\n",
        "                collection=points,\n",
        "                scale=scale,\n",
        "                geometries=True\n",
        "            )\n",
        "\n",
        "            sample_size = sampled.size().getInfo()\n",
        "            print(f\"Sample size: {sample_size}\")\n",
        "\n",
        "            if sample_size == 0:\n",
        "                print(f\"⚠️ No data returned for {state} ({season})\")\n",
        "                continue\n",
        "\n",
        "            features = sampled.getInfo()['features']\n",
        "            df = pd.json_normalize([\n",
        "                {\n",
        "                    **f['properties'],\n",
        "                    'Latitude': f['geometry']['coordinates'][1],\n",
        "                    'Longitude': f['geometry']['coordinates'][0],\n",
        "                    'geometry': f['geometry'],\n",
        "                    'State': state,\n",
        "                    'Season': season,\n",
        "                    'Year': year,\n",
        "                    'Sample_ID': str(uuid.uuid4())\n",
        "                }\n",
        "                for f in features\n",
        "            ])\n",
        "\n",
        "            all_data.append(df)\n",
        "\n",
        "        except Exception as e:\n",
        "            print(f\"❌ Error for {state} {season}: {e}\")\n",
        "\n",
        "# Combine all results\n",
        "if all_data:\n",
        "    final_df = pd.concat(all_data, ignore_index=True)\n",
        "    print(\"✅ Final DataFrame shape:\", final_df.shape)\n",
        "\n",
        "    # Optional column ordering\n",
        "    columns_order = ['Sample_ID', 'State', 'Season', 'Year', 'Latitude', 'Longitude',\n",
        "                     'NDVI', 'Seasonal_Rainfall', 'Annual_Rainfall', 'Temperature',\n",
        "                     'pH_0_5', 'Carbon', 'Texture', 'geometry']\n",
        "    final_df = final_df[[col for col in columns_order if col in final_df.columns]]\n",
        "\n",
        "    # Save\n",
        "    final_df.to_csv('smart_crop_light_data_2022.csv', index=False)\n",
        "else:\n",
        "    print(\"❌ No data collected.\")\n"
      ],
      "metadata": {
        "colab": {
          "base_uri": "https://localhost:8080/"
        },
        "id": "HcdUyYzJafYS",
        "outputId": "2c70fbbf-a277-45e5-c0b1-8f4488a11107",
        "collapsed": true
      },
      "execution_count": null,
      "outputs": [
        {
          "output_type": "stream",
          "name": "stdout",
          "text": [
            "Collecting data for Jammu (Spring)...\n",
            "Sample size: 98\n",
            "Collecting data for Jammu (Summer)...\n",
            "Sample size: 98\n",
            "Collecting data for Jammu (Autumn)...\n",
            "Sample size: 98\n",
            "Collecting data for Jammu (Winter)...\n",
            "Sample size: 98\n",
            "Collecting data for Himachal Pradesh (Spring)...\n",
            "Sample size: 92\n",
            "Collecting data for Himachal Pradesh (Summer)...\n",
            "Sample size: 92\n",
            "Collecting data for Himachal Pradesh (Autumn)...\n",
            "Sample size: 92\n",
            "Collecting data for Himachal Pradesh (Winter)...\n",
            "Sample size: 92\n",
            "Collecting data for Punjab (Spring)...\n",
            "Sample size: 96\n",
            "Collecting data for Punjab (Summer)...\n",
            "Sample size: 96\n",
            "Collecting data for Punjab (Autumn)...\n",
            "Sample size: 96\n",
            "Collecting data for Punjab (Winter)...\n",
            "Sample size: 96\n",
            "Collecting data for Haryana (Spring)...\n",
            "Sample size: 98\n",
            "Collecting data for Haryana (Summer)...\n",
            "Sample size: 98\n",
            "Collecting data for Haryana (Autumn)...\n",
            "Sample size: 98\n",
            "Collecting data for Haryana (Winter)...\n",
            "Sample size: 98\n",
            "Collecting data for West Bengal (Spring)...\n",
            "Sample size: 89\n",
            "Collecting data for West Bengal (Summer)...\n",
            "Sample size: 78\n",
            "Collecting data for West Bengal (Autumn)...\n",
            "Sample size: 89\n",
            "Collecting data for West Bengal (Winter)...\n",
            "Sample size: 89\n",
            "Collecting data for Bihar (Spring)...\n",
            "Sample size: 94\n",
            "Collecting data for Bihar (Summer)...\n",
            "Sample size: 94\n",
            "Collecting data for Bihar (Autumn)...\n",
            "Sample size: 94\n",
            "Collecting data for Bihar (Winter)...\n",
            "Sample size: 94\n",
            "Collecting data for Jharkhand (Spring)...\n",
            "Sample size: 97\n",
            "Collecting data for Jharkhand (Summer)...\n",
            "Sample size: 97\n",
            "Collecting data for Jharkhand (Autumn)...\n",
            "Sample size: 97\n",
            "Collecting data for Jharkhand (Winter)...\n",
            "Sample size: 97\n",
            "Collecting data for Gujarat (Spring)...\n",
            "Sample size: 64\n",
            "Collecting data for Gujarat (Summer)...\n",
            "Sample size: 64\n",
            "Collecting data for Gujarat (Autumn)...\n",
            "Sample size: 63\n",
            "Collecting data for Gujarat (Winter)...\n",
            "Sample size: 63\n",
            "Collecting data for Madhya Pradesh (Spring)...\n",
            "Sample size: 100\n",
            "Collecting data for Madhya Pradesh (Summer)...\n",
            "Sample size: 100\n",
            "Collecting data for Madhya Pradesh (Autumn)...\n",
            "Sample size: 100\n",
            "Collecting data for Madhya Pradesh (Winter)...\n",
            "Sample size: 100\n",
            "Collecting data for Rajasthan (Spring)...\n",
            "Sample size: 98\n",
            "Collecting data for Rajasthan (Summer)...\n",
            "Sample size: 98\n",
            "Collecting data for Rajasthan (Autumn)...\n",
            "Sample size: 98\n",
            "Collecting data for Rajasthan (Winter)...\n",
            "Sample size: 95\n",
            "Collecting data for Kerala (Spring)...\n",
            "Sample size: 42\n",
            "Collecting data for Kerala (Summer)...\n",
            "Sample size: 42\n",
            "Collecting data for Kerala (Autumn)...\n",
            "Sample size: 42\n",
            "Collecting data for Kerala (Winter)...\n",
            "Sample size: 42\n",
            "Collecting data for Tamil Nadu (Spring)...\n",
            "Sample size: 73\n",
            "Collecting data for Tamil Nadu (Summer)...\n",
            "Sample size: 73\n",
            "Collecting data for Tamil Nadu (Autumn)...\n",
            "Sample size: 73\n",
            "Collecting data for Tamil Nadu (Winter)...\n",
            "Sample size: 73\n",
            "Collecting data for Uttar Pradesh (Spring)...\n",
            "Sample size: 94\n",
            "Collecting data for Uttar Pradesh (Summer)...\n",
            "Sample size: 94\n",
            "Collecting data for Uttar Pradesh (Autumn)...\n",
            "Sample size: 94\n",
            "Collecting data for Uttar Pradesh (Winter)...\n",
            "Sample size: 94\n",
            "Collecting data for Assam (Spring)...\n",
            "Sample size: 99\n",
            "Collecting data for Assam (Summer)...\n",
            "Sample size: 93\n",
            "Collecting data for Assam (Autumn)...\n",
            "Sample size: 99\n",
            "Collecting data for Assam (Winter)...\n",
            "Sample size: 99\n",
            "Collecting data for Odisha (Spring)...\n",
            "Sample size: 76\n",
            "Collecting data for Odisha (Summer)...\n",
            "Sample size: 75\n",
            "Collecting data for Odisha (Autumn)...\n",
            "Sample size: 76\n",
            "Collecting data for Odisha (Winter)...\n",
            "Sample size: 76\n",
            "Collecting data for Andhra Pradesh (Spring)...\n",
            "Sample size: 63\n",
            "Collecting data for Andhra Pradesh (Summer)...\n",
            "Sample size: 63\n",
            "Collecting data for Andhra Pradesh (Autumn)...\n",
            "Sample size: 63\n",
            "Collecting data for Andhra Pradesh (Winter)...\n",
            "Sample size: 63\n",
            "✅ Final DataFrame shape: (5472, 16)\n"
          ]
        }
      ]
    },
    {
      "cell_type": "markdown",
      "source": [
        "## Combine all csv files from 2019 to 2023"
      ],
      "metadata": {
        "id": "DXzS7sCGQJyt"
      }
    },
    {
      "cell_type": "code",
      "source": [
        "from google.colab import drive\n",
        "from google.colab import files\n",
        "import pandas as pd\n",
        "import glob\n",
        "import os\n",
        "\n",
        "drive.mount('/content/drive')\n",
        "\n",
        "folder_path = '/content/drive/MyDrive/final_project_AGP'\n",
        "print(\"Files found:\", len(glob.glob(os.path.join(folder_path, '*.csv'))))\n",
        "print(\"Files:\", folder_path)\n",
        "\n",
        "\n",
        "csv_files = glob.glob(os.path.join(folder_path, '*.csv'))\n",
        "\n",
        "df_all = pd.concat([pd.read_csv(f) for f in csv_files], ignore_index=True)\n",
        "\n",
        "output_filename = 'smart_crop_lat_long.csv'\n",
        "df_all.to_csv(output_filename, index=False)\n",
        "\n",
        "print(f\"\\nSuccessfully combined {len(csv_files)} CSV files into {output_filename}\")\n",
        "\n",
        "# Provide a download link for the generated CSV\n",
        "files.download(output_filename)"
      ],
      "metadata": {
        "id": "P5Rj_THBHRfl",
        "colab": {
          "base_uri": "https://localhost:8080/",
          "height": 104
        },
        "outputId": "b6b7d462-493f-45ef-c0e5-149b74eeffb2"
      },
      "execution_count": null,
      "outputs": [
        {
          "output_type": "stream",
          "name": "stdout",
          "text": [
            "Drive already mounted at /content/drive; to attempt to forcibly remount, call drive.mount(\"/content/drive\", force_remount=True).\n",
            "Files found: 3\n",
            "Files: /content/drive/MyDrive/final_project_AGP\n",
            "\n",
            "Successfully combined 3 CSV files into smart_crop_lat_long.csv\n"
          ]
        },
        {
          "output_type": "display_data",
          "data": {
            "text/plain": [
              "<IPython.core.display.Javascript object>"
            ],
            "application/javascript": [
              "\n",
              "    async function download(id, filename, size) {\n",
              "      if (!google.colab.kernel.accessAllowed) {\n",
              "        return;\n",
              "      }\n",
              "      const div = document.createElement('div');\n",
              "      const label = document.createElement('label');\n",
              "      label.textContent = `Downloading \"${filename}\": `;\n",
              "      div.appendChild(label);\n",
              "      const progress = document.createElement('progress');\n",
              "      progress.max = size;\n",
              "      div.appendChild(progress);\n",
              "      document.body.appendChild(div);\n",
              "\n",
              "      const buffers = [];\n",
              "      let downloaded = 0;\n",
              "\n",
              "      const channel = await google.colab.kernel.comms.open(id);\n",
              "      // Send a message to notify the kernel that we're ready.\n",
              "      channel.send({})\n",
              "\n",
              "      for await (const message of channel.messages) {\n",
              "        // Send a message to notify the kernel that we're ready.\n",
              "        channel.send({})\n",
              "        if (message.buffers) {\n",
              "          for (const buffer of message.buffers) {\n",
              "            buffers.push(buffer);\n",
              "            downloaded += buffer.byteLength;\n",
              "            progress.value = downloaded;\n",
              "          }\n",
              "        }\n",
              "      }\n",
              "      const blob = new Blob(buffers, {type: 'application/binary'});\n",
              "      const a = document.createElement('a');\n",
              "      a.href = window.URL.createObjectURL(blob);\n",
              "      a.download = filename;\n",
              "      div.appendChild(a);\n",
              "      a.click();\n",
              "      div.remove();\n",
              "    }\n",
              "  "
            ]
          },
          "metadata": {}
        },
        {
          "output_type": "display_data",
          "data": {
            "text/plain": [
              "<IPython.core.display.Javascript object>"
            ],
            "application/javascript": [
              "download(\"download_79bcc108-72e6-4003-bb50-e15d931c88b4\", \"smart_crop_lat_long.csv\", 2935421)"
            ]
          },
          "metadata": {}
        }
      ]
    },
    {
      "cell_type": "markdown",
      "source": [
        "## Load the final data(2019-2023) and create the crop column as target for prediction."
      ],
      "metadata": {
        "id": "IAXuyNtgTWh5"
      }
    },
    {
      "cell_type": "code",
      "source": [
        "import pandas as pd\n",
        "\n",
        "# Load merged data\n",
        "df = pd.read_csv('/content/drive/MyDrive/Advance-geospatial-programming_capstone_2025/crop_suitability_multi_label_many_crops.csv')"
      ],
      "metadata": {
        "id": "7lxnPrgeSw7X"
      },
      "execution_count": null,
      "outputs": []
    },
    {
      "cell_type": "code",
      "source": [
        "# Define thresholds (relaxed and approximate ranges)\n",
        "def is_suitable(row, ph_range, temp_range, rain_range, carbon_min=0):\n",
        "    return (\n",
        "        ph_range[0] <= row['pH_0_5'] <= ph_range[1] and\n",
        "        temp_range[0] <= row['Temperature'] <= temp_range[1] and\n",
        "        rain_range[0] <= row['Annual_Rainfall'] <= rain_range[1] and\n",
        "        row['Carbon'] >= carbon_min\n",
        "    )\n",
        "\n",
        "# --- FIELD CROPS ---\n",
        "df['Paddy'] = df.apply(lambda r: is_suitable(r, (5.5, 7.0), (20, 35), (1200, 3000), 1), axis=1)\n",
        "df['Wheat'] = df.apply(lambda r: is_suitable(r, (6.0, 7.5), (15, 28), (300, 1200), 1), axis=1) ## Loamy soil PH-value(6.0-7.5)data source google.\n",
        "\n",
        "# --- FRUITS ---\n",
        "df['Apple'] = df.apply(lambda r: is_suitable(r, (5.5, 6.5), (5, 21), (1000, 1600), 300), axis=1)\n",
        "\n",
        "# --- MEDICINAL / AROMATIC CROPS ---\n",
        "df['Tea'] = df.apply(lambda r: is_suitable(r, (4.5, 6.3), (14, 26), (1200, 2500), 1), axis=1)\n",
        "\n",
        "# --- PLANTATION & FLOWER CROPS ---\n",
        "df['Coconut'] = df.apply(lambda r: is_suitable(r, (5.2, 7.2), (20, 38), (1200, 2500), 1), axis=1)\n",
        "\n",
        "\n",
        "# Save to CSV\n",
        "df.to_csv(\"/content/drive/MyDrive/Advance-geospatial-programming_capstone_2025/C.S_multi_lable_5_class.csv\", index=False)\n"
      ],
      "metadata": {
        "id": "Ht3aSQ25Qbx-"
      },
      "execution_count": null,
      "outputs": []
    }
  ]
}